{
 "cells": [
  {
   "cell_type": "code",
   "execution_count": 1,
   "metadata": {
    "ExecuteTime": {
     "end_time": "2018-08-20T21:40:41.864461Z",
     "start_time": "2018-08-20T21:40:37.126546Z"
    },
    "collapsed": true
   },
   "outputs": [],
   "source": [
    "%load_ext autoreload\n",
    "%autoreload 2\n",
    "%matplotlib inline\n"
   ]
  },
  {
   "cell_type": "code",
   "execution_count": 2,
   "metadata": {
    "ExecuteTime": {
     "end_time": "2018-08-20T21:40:48.540806Z",
     "start_time": "2018-08-20T21:40:44.345395Z"
    },
    "collapsed": true
   },
   "outputs": [],
   "source": [
    "import numpy as np\n",
    "import pandas as pd\n",
    "import matplotlib, collections, itertools, os, re, textwrap, logging\n",
    "import matplotlib.pyplot as plt\n",
    "import matplotlib.gridspec as gridspec\n",
    "import matplotlib.patches as mpatches\n",
    "from functools import reduce\n",
    "\n",
    "from logging.config import dictConfig\n",
    "from logging import getLogger\n",
    "\n",
    "dictConfig(dict(\n",
    "    version = 1,\n",
    "    formatters = {'f': {'format': '%(asctime)s %(name)-12s %(levelname)-8s %(message)s'}},\n",
    "    handlers = {\n",
    "        'h': {'class': 'logging.StreamHandler','formatter': 'f',\n",
    "              'level': logging.DEBUG}},\n",
    "    root = {'handlers': ['h'], 'level': logging.DEBUG,},\n",
    "))\n",
    "\n",
    "matplotlib.rc('font',**{'size':18, 'family':'sans-serif','sans-serif':['HelveticaNeue', 'Helvetica']})\n",
    "\n",
    "logger = getLogger('notebook')\n"
   ]
  },
  {
   "cell_type": "code",
   "execution_count": 3,
   "metadata": {
    "ExecuteTime": {
     "end_time": "2018-08-20T21:40:51.215842Z",
     "start_time": "2018-08-20T21:40:51.102659Z"
    },
    "collapsed": true
   },
   "outputs": [],
   "source": [
    "import yt_misc_py as yt_misc\n",
    "\n",
    "import rivas_decomposition_py as decomposition\n"
   ]
  },
  {
   "cell_type": "code",
   "execution_count": 4,
   "metadata": {
    "ExecuteTime": {
     "end_time": "2018-08-20T21:40:51.573192Z",
     "start_time": "2018-08-20T21:40:51.489949Z"
    },
    "collapsed": true
   },
   "outputs": [],
   "source": [
    "repo_dir = os.path.dirname(os.path.dirname(os.path.dirname(os.path.realpath(os.getcwd()))))\n",
    "\n",
    "out_dir = os.path.join(\n",
    "    repo_dir, 'figs', os.path.basename(os.path.realpath(os.getcwd())),\n",
    ")\n"
   ]
  },
  {
   "cell_type": "code",
   "execution_count": 5,
   "metadata": {
    "ExecuteTime": {
     "end_time": "2018-08-20T21:41:14.126208Z",
     "start_time": "2018-08-20T21:40:53.612244Z"
    }
   },
   "outputs": [
    {
     "name": "stderr",
     "output_type": "stream",
     "text": [
      "2018-08-20 14:40:53,675 data_load_from_npz INFO     reading data from /Users/yosuke/repos/rivas-lab/decomposition/private_data/npz/dev_allNonMHC_z_center_p0001_100PCs_20180129.npz\n"
     ]
    }
   ],
   "source": [
    "d_all = decomposition.decomposition(os.path.join(\n",
    "    repo_dir, 'private_data', 'npz', 'dev_allNonMHC_z_center_p0001_100PCs_20180129.npz'\n",
    "))\n"
   ]
  },
  {
   "cell_type": "code",
   "execution_count": 6,
   "metadata": {
    "ExecuteTime": {
     "end_time": "2018-08-20T21:43:03.169137Z",
     "start_time": "2018-08-20T21:43:02.853069Z"
    },
    "collapsed": true
   },
   "outputs": [],
   "source": [
    "phe_set = set(d_all.d['label_phe_code'])\n",
    "\n",
    "npz_file    = os.path.join(repo_dir, 'notebook', 'figs', 'Fig4_PTVs', 'PheWAS.npz')\n",
    "p_value_thr = 0.001\n",
    "min_case_count = 1000\n"
   ]
  },
  {
   "cell_type": "code",
   "execution_count": 7,
   "metadata": {
    "ExecuteTime": {
     "end_time": "2018-08-20T21:43:15.612112Z",
     "start_time": "2018-08-20T21:43:05.420032Z"
    },
    "collapsed": true
   },
   "outputs": [],
   "source": [
    "dfs = decomposition.PheWAS_data_loader(npz_file, phe_set, p_value_thr, min_case_count)\n"
   ]
  },
  {
   "cell_type": "code",
   "execution_count": 8,
   "metadata": {
    "ExecuteTime": {
     "end_time": "2018-08-20T21:43:23.159450Z",
     "start_time": "2018-08-20T21:43:23.066409Z"
    }
   },
   "outputs": [
    {
     "name": "stdout",
     "output_type": "stream",
     "text": [
      "['GPR151', 'LIPT1', 'PDE3B']\n"
     ]
    },
    {
     "data": {
      "text/plain": [
       "[28, 18, 32]"
      ]
     },
     "execution_count": 8,
     "metadata": {},
     "output_type": "execute_result"
    }
   ],
   "source": [
    "print(dfs.keys())\n",
    "[len(x) for x in dfs.values()]\n"
   ]
  },
  {
   "cell_type": "markdown",
   "metadata": {},
   "source": [
    "We produce the full PheWAS results for Erik's group (search for email \"GPR151 PheWAS\")"
   ]
  },
  {
   "cell_type": "code",
   "execution_count": 9,
   "metadata": {
    "ExecuteTime": {
     "end_time": "2018-08-20T21:44:14.205484Z",
     "start_time": "2018-08-20T21:44:03.916496Z"
    },
    "collapsed": true
   },
   "outputs": [],
   "source": [
    "full_dfs = decomposition.PheWAS_data_loader(\n",
    "    npz_file, \n",
    "    phe_set,\n",
    "    1,\n",
    "    100\n",
    ")\n"
   ]
  },
  {
   "cell_type": "code",
   "execution_count": 11,
   "metadata": {
    "ExecuteTime": {
     "end_time": "2018-08-20T21:44:32.309376Z",
     "start_time": "2018-08-20T21:44:32.245250Z"
    }
   },
   "outputs": [
    {
     "name": "stdout",
     "output_type": "stream",
     "text": [
      "['GPR151', 'LIPT1', 'PDE3B']\n"
     ]
    },
    {
     "data": {
      "text/plain": [
       "[2076, 1914, 1896]"
      ]
     },
     "execution_count": 11,
     "metadata": {},
     "output_type": "execute_result"
    }
   ],
   "source": [
    "print(full_dfs.keys())\n",
    "[len(x) for x in full_dfs.values()]\n"
   ]
  },
  {
   "cell_type": "code",
   "execution_count": 12,
   "metadata": {
    "ExecuteTime": {
     "end_time": "2018-08-20T21:45:39.721483Z",
     "start_time": "2018-08-20T21:45:39.593064Z"
    },
    "collapsed": true
   },
   "outputs": [],
   "source": [
    "PTV_name = 'GPR151'\n",
    "df_temp = dfs[PTV_name]\n"
   ]
  },
  {
   "cell_type": "code",
   "execution_count": 13,
   "metadata": {
    "ExecuteTime": {
     "end_time": "2018-08-20T21:45:41.316791Z",
     "start_time": "2018-08-20T21:45:41.255190Z"
    },
    "collapsed": true
   },
   "outputs": [],
   "source": [
    "exclude_list = [\n",
    "    'INI25868', 'INI25840'\n",
    "]\n"
   ]
  },
  {
   "cell_type": "code",
   "execution_count": 14,
   "metadata": {
    "ExecuteTime": {
     "end_time": "2018-08-20T21:45:43.575825Z",
     "start_time": "2018-08-20T21:45:42.661329Z"
    }
   },
   "outputs": [
    {
     "data": {
      "text/html": [
       "<div>\n",
       "<style scoped>\n",
       "    .dataframe tbody tr th:only-of-type {\n",
       "        vertical-align: middle;\n",
       "    }\n",
       "\n",
       "    .dataframe tbody tr th {\n",
       "        vertical-align: top;\n",
       "    }\n",
       "\n",
       "    .dataframe thead th {\n",
       "        text-align: right;\n",
       "    }\n",
       "</style>\n",
       "<table border=\"1\" class=\"dataframe\">\n",
       "  <thead>\n",
       "    <tr style=\"text-align: right;\">\n",
       "      <th></th>\n",
       "      <th>Code</th>\n",
       "      <th>Name</th>\n",
       "    </tr>\n",
       "  </thead>\n",
       "  <tbody>\n",
       "    <tr>\n",
       "      <th>3</th>\n",
       "      <td>INI25840</td>\n",
       "      <td>Volume_of_grey_matter_in_Cingulate_Gyrus,_post...</td>\n",
       "    </tr>\n",
       "    <tr>\n",
       "      <th>21</th>\n",
       "      <td>INI25868</td>\n",
       "      <td>Volume_of_grey_matter_in_Planum_Polare_(left)</td>\n",
       "    </tr>\n",
       "  </tbody>\n",
       "</table>\n",
       "</div>"
      ],
      "text/plain": [
       "        Code                                               Name\n",
       "3   INI25840  Volume_of_grey_matter_in_Cingulate_Gyrus,_post...\n",
       "21  INI25868      Volume_of_grey_matter_in_Planum_Polare_(left)"
      ]
     },
     "execution_count": 14,
     "metadata": {},
     "output_type": "execute_result"
    }
   ],
   "source": [
    "df_temp[df_temp['Code'].map(\n",
    "    lambda x: x in set(exclude_list)\n",
    ")][['Code', 'Name']]\n"
   ]
  },
  {
   "cell_type": "code",
   "execution_count": 15,
   "metadata": {
    "ExecuteTime": {
     "end_time": "2018-08-20T21:45:43.785088Z",
     "start_time": "2018-08-20T21:45:43.726994Z"
    },
    "collapsed": true
   },
   "outputs": [],
   "source": [
    "df = df_temp[df_temp['Code'].map(lambda x: x not in set(exclude_list))]\n"
   ]
  },
  {
   "cell_type": "code",
   "execution_count": 16,
   "metadata": {
    "ExecuteTime": {
     "end_time": "2018-08-20T21:46:15.589675Z",
     "start_time": "2018-08-20T21:46:15.416437Z"
    },
    "collapsed": true
   },
   "outputs": [],
   "source": [
    "df_full_GPR151 = full_dfs[PTV_name]"
   ]
  },
  {
   "cell_type": "code",
   "execution_count": 19,
   "metadata": {
    "ExecuteTime": {
     "end_time": "2018-08-20T21:47:07.747738Z",
     "start_time": "2018-08-20T21:47:07.663784Z"
    }
   },
   "outputs": [
    {
     "data": {
      "text/plain": [
       "Index([u'Group', u'text', u'l95or', u'pos', u'LOR', u'icdind', u'u95or',\n",
       "       u'icd_idx', u'synthetic', u'log10pvalue', u'L95OR', u'affyid', u'lor',\n",
       "       u'pdecimal', u'or_val', u'U95OR', u'icd', u'Case', u'Name', u'l10pval',\n",
       "       u'chrom', u'196SE', u'Code', u'OR', u'SE', u'pvalue', u'se',\n",
       "       u'is_binary'],\n",
       "      dtype='object')"
      ]
     },
     "execution_count": 19,
     "metadata": {},
     "output_type": "execute_result"
    }
   ],
   "source": [
    "df_full_GPR151.columns"
   ]
  },
  {
   "cell_type": "code",
   "execution_count": 21,
   "metadata": {
    "ExecuteTime": {
     "end_time": "2018-08-20T21:48:54.853927Z",
     "start_time": "2018-08-20T21:48:54.684568Z"
    }
   },
   "outputs": [],
   "source": [
    "df_full_GPR151[['icd', 'Name', 'Case', 'l10pval', 'LOR', '196SE']].to_csv(\n",
    "    os.path.join(out_dir, 'PheWAS_GPR151_full.tsv'),\n",
    "    index=False, sep='\\t'\n",
    ")\n"
   ]
  },
  {
   "cell_type": "code",
   "execution_count": 13,
   "metadata": {},
   "outputs": [
    {
     "name": "stderr",
     "output_type": "stream",
     "text": [
      "/Users/yosuke/anaconda3/envs/py27/lib/python2.7/site-packages/matplotlib/font_manager.py:1320: UserWarning: findfont: Font family [u'sans-serif'] not found. Falling back to DejaVu Sans\n",
      "  (prop.get_family(), self.defaultFamily[fontext]))\n"
     ]
    },
    {
     "data": {
      "image/png": "[encoded data removed]",
      "text/plain": [
       "<matplotlib.figure.Figure at 0x15172ced0>"
      ]
     },
     "metadata": {},
     "output_type": "display_data"
    }
   ],
   "source": [
    "fig = plt.figure(figsize=(20, 9))\n",
    "gs = gridspec.GridSpec(1, 2)\n",
    "fig_axs = [fig.add_subplot(sp) for sp in gs]\n",
    "\n",
    "vertical_pos = np.arange(len(df['l10pval']))\n",
    "pheno_labels = df['Name'].map(\n",
    "    lambda x: decomposition.label_txt_formatter(x, 23)\n",
    ")\n",
    "\n",
    "colors = ['red', 'blue']\n",
    "color_legend_labels = ['Binary\\nphenotypes', 'Quantitative\\nphenotypes']\n",
    "\n",
    "for color_index, is_bin in enumerate([True, False]):\n",
    "    mask = df['is_binary'].map(lambda x: x is is_bin)\n",
    "    fig_axs[0].barh(\n",
    "        vertical_pos[mask], df['l10pval'][mask], \n",
    "        color=colors[color_index]\n",
    "    )\n",
    "    fig_axs[1].errorbar(\n",
    "        df['LOR'][mask], vertical_pos[mask], \n",
    "        xerr=df['196SE'][mask], fmt='o', \n",
    "        color=colors[color_index]\n",
    "    )\n",
    "\n",
    "for ax in fig_axs:\n",
    "    ax.invert_yaxis()\n",
    "fig_axs[1].plot(np.zeros(len(vertical_pos)), vertical_pos, color='black')\n",
    "fig_axs[0].set_yticklabels(pheno_labels, fontsize=16)\n",
    "fig_axs[0].set_yticks(vertical_pos)\n",
    "fig_axs[0].set_xlabel('-log10(p-value)')\n",
    "fig_axs[1].set_xlabel('log(OR) or Beta')\n",
    "fig_axs[1].get_yaxis().set_visible(False)\n",
    "\n",
    "effect_size_plot_max = max(\n",
    "    np.max((df['LOR'] + df['196SE']).map(lambda x: abs(x))), \n",
    "    np.max((df['LOR'] - df['196SE']).map(lambda x: abs(x)))\n",
    ")\n",
    "fig_axs[1].set_xlim((-effect_size_plot_max*1.1, effect_size_plot_max*1.1))\n",
    "\n",
    "\n",
    "for ax in fig_axs:\n",
    "    ax.legend(\n",
    "        handles=[\n",
    "            mpatches.Patch(color=colors[i], label=color_legend_labels[i]) \n",
    "            for i in range(len(color_legend_labels))\n",
    "        ]\n",
    "    )\n",
    "\n",
    "        \n",
    "for ext in ['pdf', 'png']:\n",
    "    fig.savefig(\n",
    "        os.path.join(out_dir, 'fig4_PheWAS_{}.{}'.format(PTV_name, ext)),\n",
    "        bbox_inches=\"tight\", pad_inches=0.0,\n",
    "    )\n"
   ]
  },
  {
   "cell_type": "code",
   "execution_count": 14,
   "metadata": {},
   "outputs": [
    {
     "data": {
      "text/plain": [
       "'fig4_PheWAS_GPR151.png'"
      ]
     },
     "execution_count": 14,
     "metadata": {},
     "output_type": "execute_result"
    }
   ],
   "source": [
    "'fig4_PheWAS_{}.{}'.format(PTV_name, ext)\n"
   ]
  },
  {
   "cell_type": "code",
   "execution_count": 15,
   "metadata": {},
   "outputs": [
    {
     "data": {
      "text/plain": [
       "0            Fed-up feelings\n",
       "4        Waist circumference\n",
       "7        Whole body fat mass\n",
       "20            Trunk fat mass\n",
       "8           Arm fat mass (R)\n",
       "10                Body fat %\n",
       "9                Trunk fat %\n",
       "5                     Weight\n",
       "14          Leg fat mass (L)\n",
       "12          Leg fat mass (R)\n",
       "6      Body mass index (BMI)\n",
       "13             Leg fat % (R)\n",
       "11          Arm fat mass (L)\n",
       "15             Leg fat % (L)\n",
       "16             Arm fat % (R)\n",
       "19             Arm fat % (L)\n",
       "2          Hip circumference\n",
       "22    Arm predicted mass (L)\n",
       "23     Arm fat-free mass (L)\n",
       "28      Basal metabolic rate\n",
       "27     Leg fat-free mass (L)\n",
       "26    Leg predicted mass (L)\n",
       "30     Arm fat-free mass (R)\n",
       "25    Arm predicted mass (R)\n",
       "29     Whole body water mass\n",
       "24    Leg predicted mass (R)\n",
       "Name: Name, dtype: object"
      ]
     },
     "execution_count": 15,
     "metadata": {},
     "output_type": "execute_result"
    }
   ],
   "source": [
    "df['Name'].map(lambda x: decomposition.label_txt_formatter(x, 23))\n"
   ]
  },
  {
   "cell_type": "code",
   "execution_count": 16,
   "metadata": {},
   "outputs": [
    {
     "data": {
      "text/plain": [
       "0                Fed-up_feelings\n",
       "4            Waist_circumference\n",
       "7            Whole_body_fat_mass\n",
       "20                Trunk_fat_mass\n",
       "8           Arm_fat_mass_(right)\n",
       "10           Body_fat_percentage\n",
       "9           Trunk_fat_percentage\n",
       "5                         Weight\n",
       "14           Leg_fat_mass_(left)\n",
       "12          Leg_fat_mass_(right)\n",
       "6          Body_mass_index_(BMI)\n",
       "13    Leg_fat_percentage_(right)\n",
       "11           Arm_fat_mass_(left)\n",
       "15     Leg_fat_percentage_(left)\n",
       "16    Arm_fat_percentage_(right)\n",
       "19     Arm_fat_percentage_(left)\n",
       "2              Hip_circumference\n",
       "22     Arm_predicted_mass_(left)\n",
       "23      Arm_fat-free_mass_(left)\n",
       "28          Basal_metabolic_rate\n",
       "27      Leg_fat-free_mass_(left)\n",
       "26     Leg_predicted_mass_(left)\n",
       "30     Arm_fat-free_mass_(right)\n",
       "25    Arm_predicted_mass_(right)\n",
       "29         Whole_body_water_mass\n",
       "24    Leg_predicted_mass_(right)\n",
       "Name: Name, dtype: object"
      ]
     },
     "execution_count": 16,
     "metadata": {},
     "output_type": "execute_result"
    }
   ],
   "source": [
    "df['Name']"
   ]
  },
  {
   "cell_type": "code",
   "execution_count": 17,
   "metadata": {},
   "outputs": [
    {
     "name": "stdout",
     "output_type": "stream",
     "text": [
      "Fed-up_feelings\n",
      "Waist_circumference\n",
      "Whole_body_fat_mass\n",
      "Trunk_fat_mass\n",
      "Arm_fat_mass_(right)\n",
      "Body_fat_percentage\n",
      "Trunk_fat_percentage\n",
      "Weight\n",
      "Leg_fat_mass_(left)\n",
      "Leg_fat_mass_(right)\n",
      "Body_mass_index_(BMI)\n",
      "Leg_fat_percentage_(right)\n",
      "Arm_fat_mass_(left)\n",
      "Leg_fat_percentage_(left)\n",
      "Arm_fat_percentage_(right)\n",
      "Arm_fat_percentage_(left)\n",
      "Hip_circumference\n",
      "Arm_predicted_mass_(left)\n",
      "Arm_fat-free_mass_(left)\n",
      "Basal_metabolic_rate\n",
      "Leg_fat-free_mass_(left)\n",
      "Leg_predicted_mass_(left)\n",
      "Arm_fat-free_mass_(right)\n",
      "Arm_predicted_mass_(right)\n",
      "Whole_body_water_mass\n",
      "Leg_predicted_mass_(right)\n"
     ]
    }
   ],
   "source": [
    "for x in df['Name']:\n",
    "    print(x)\n",
    "    "
   ]
  },
  {
   "cell_type": "code",
   "execution_count": 18,
   "metadata": {},
   "outputs": [
    {
     "data": {
      "text/html": [
       "<div>\n",
       "<style scoped>\n",
       "    .dataframe tbody tr th:only-of-type {\n",
       "        vertical-align: middle;\n",
       "    }\n",
       "\n",
       "    .dataframe tbody tr th {\n",
       "        vertical-align: top;\n",
       "    }\n",
       "\n",
       "    .dataframe thead th {\n",
       "        text-align: right;\n",
       "    }\n",
       "</style>\n",
       "<table border=\"1\" class=\"dataframe\">\n",
       "  <thead>\n",
       "    <tr style=\"text-align: right;\">\n",
       "      <th></th>\n",
       "      <th>icd</th>\n",
       "      <th>Name</th>\n",
       "      <th>Case</th>\n",
       "      <th>l10pval</th>\n",
       "      <th>LOR</th>\n",
       "      <th>196SE</th>\n",
       "    </tr>\n",
       "  </thead>\n",
       "  <tbody>\n",
       "    <tr>\n",
       "      <th>0</th>\n",
       "      <td>BIN1960</td>\n",
       "      <td>Fed-up_feelings</td>\n",
       "      <td>136434</td>\n",
       "      <td>3.041</td>\n",
       "      <td>-0.09304</td>\n",
       "      <td>0.054978</td>\n",
       "    </tr>\n",
       "    <tr>\n",
       "      <th>4</th>\n",
       "      <td>INI48</td>\n",
       "      <td>Waist_circumference</td>\n",
       "      <td>336659</td>\n",
       "      <td>7.599</td>\n",
       "      <td>-0.06544</td>\n",
       "      <td>0.023010</td>\n",
       "    </tr>\n",
       "    <tr>\n",
       "      <th>7</th>\n",
       "      <td>INI23100</td>\n",
       "      <td>Whole_body_fat_mass</td>\n",
       "      <td>330970</td>\n",
       "      <td>6.870</td>\n",
       "      <td>-0.06872</td>\n",
       "      <td>0.025539</td>\n",
       "    </tr>\n",
       "    <tr>\n",
       "      <th>20</th>\n",
       "      <td>INI23128</td>\n",
       "      <td>Trunk_fat_mass</td>\n",
       "      <td>331295</td>\n",
       "      <td>6.835</td>\n",
       "      <td>-0.07053</td>\n",
       "      <td>0.026284</td>\n",
       "    </tr>\n",
       "    <tr>\n",
       "      <th>8</th>\n",
       "      <td>INI23120</td>\n",
       "      <td>Arm_fat_mass_(right)</td>\n",
       "      <td>331422</td>\n",
       "      <td>6.816</td>\n",
       "      <td>-0.06863</td>\n",
       "      <td>0.025617</td>\n",
       "    </tr>\n",
       "    <tr>\n",
       "      <th>10</th>\n",
       "      <td>INI23099</td>\n",
       "      <td>Body_fat_percentage</td>\n",
       "      <td>331318</td>\n",
       "      <td>6.816</td>\n",
       "      <td>-0.05306</td>\n",
       "      <td>0.019816</td>\n",
       "    </tr>\n",
       "    <tr>\n",
       "      <th>9</th>\n",
       "      <td>INI23127</td>\n",
       "      <td>Trunk_fat_percentage</td>\n",
       "      <td>331314</td>\n",
       "      <td>6.790</td>\n",
       "      <td>-0.06356</td>\n",
       "      <td>0.023775</td>\n",
       "    </tr>\n",
       "    <tr>\n",
       "      <th>5</th>\n",
       "      <td>INI21002</td>\n",
       "      <td>Weight</td>\n",
       "      <td>336260</td>\n",
       "      <td>6.654</td>\n",
       "      <td>-0.06087</td>\n",
       "      <td>0.023030</td>\n",
       "    </tr>\n",
       "    <tr>\n",
       "      <th>14</th>\n",
       "      <td>INI23116</td>\n",
       "      <td>Leg_fat_mass_(left)</td>\n",
       "      <td>331470</td>\n",
       "      <td>6.649</td>\n",
       "      <td>-0.05468</td>\n",
       "      <td>0.020698</td>\n",
       "    </tr>\n",
       "    <tr>\n",
       "      <th>12</th>\n",
       "      <td>INI23112</td>\n",
       "      <td>Leg_fat_mass_(right)</td>\n",
       "      <td>331488</td>\n",
       "      <td>6.620</td>\n",
       "      <td>-0.05517</td>\n",
       "      <td>0.020933</td>\n",
       "    </tr>\n",
       "    <tr>\n",
       "      <th>6</th>\n",
       "      <td>INI21001</td>\n",
       "      <td>Body_mass_index_(BMI)</td>\n",
       "      <td>336144</td>\n",
       "      <td>6.498</td>\n",
       "      <td>-0.06789</td>\n",
       "      <td>0.026029</td>\n",
       "    </tr>\n",
       "    <tr>\n",
       "      <th>13</th>\n",
       "      <td>INI23111</td>\n",
       "      <td>Leg_fat_percentage_(right)</td>\n",
       "      <td>331491</td>\n",
       "      <td>6.341</td>\n",
       "      <td>-0.04201</td>\n",
       "      <td>0.016327</td>\n",
       "    </tr>\n",
       "    <tr>\n",
       "      <th>11</th>\n",
       "      <td>INI23124</td>\n",
       "      <td>Arm_fat_mass_(left)</td>\n",
       "      <td>331362</td>\n",
       "      <td>6.317</td>\n",
       "      <td>-0.06587</td>\n",
       "      <td>0.025656</td>\n",
       "    </tr>\n",
       "    <tr>\n",
       "      <th>15</th>\n",
       "      <td>INI23115</td>\n",
       "      <td>Leg_fat_percentage_(left)</td>\n",
       "      <td>331473</td>\n",
       "      <td>6.170</td>\n",
       "      <td>-0.04087</td>\n",
       "      <td>0.016123</td>\n",
       "    </tr>\n",
       "    <tr>\n",
       "      <th>16</th>\n",
       "      <td>INI23119</td>\n",
       "      <td>Arm_fat_percentage_(right)</td>\n",
       "      <td>331445</td>\n",
       "      <td>5.424</td>\n",
       "      <td>-0.04689</td>\n",
       "      <td>0.019874</td>\n",
       "    </tr>\n",
       "    <tr>\n",
       "      <th>19</th>\n",
       "      <td>INI23123</td>\n",
       "      <td>Arm_fat_percentage_(left)</td>\n",
       "      <td>331395</td>\n",
       "      <td>5.048</td>\n",
       "      <td>-0.04485</td>\n",
       "      <td>0.019796</td>\n",
       "    </tr>\n",
       "    <tr>\n",
       "      <th>2</th>\n",
       "      <td>INI49</td>\n",
       "      <td>Hip_circumference</td>\n",
       "      <td>336620</td>\n",
       "      <td>4.649</td>\n",
       "      <td>-0.05669</td>\n",
       "      <td>0.026205</td>\n",
       "    </tr>\n",
       "    <tr>\n",
       "      <th>22</th>\n",
       "      <td>INI23126</td>\n",
       "      <td>Arm_predicted_mass_(left)</td>\n",
       "      <td>331345</td>\n",
       "      <td>4.211</td>\n",
       "      <td>-0.03373</td>\n",
       "      <td>0.016499</td>\n",
       "    </tr>\n",
       "    <tr>\n",
       "      <th>23</th>\n",
       "      <td>INI23125</td>\n",
       "      <td>Arm_fat-free_mass_(left)</td>\n",
       "      <td>331358</td>\n",
       "      <td>3.929</td>\n",
       "      <td>-0.03257</td>\n",
       "      <td>0.016580</td>\n",
       "    </tr>\n",
       "    <tr>\n",
       "      <th>28</th>\n",
       "      <td>INI23105</td>\n",
       "      <td>Basal_metabolic_rate</td>\n",
       "      <td>331502</td>\n",
       "      <td>3.923</td>\n",
       "      <td>-0.03368</td>\n",
       "      <td>0.017154</td>\n",
       "    </tr>\n",
       "    <tr>\n",
       "      <th>27</th>\n",
       "      <td>INI23117</td>\n",
       "      <td>Leg_fat-free_mass_(left)</td>\n",
       "      <td>331454</td>\n",
       "      <td>3.423</td>\n",
       "      <td>-0.03063</td>\n",
       "      <td>0.016887</td>\n",
       "    </tr>\n",
       "    <tr>\n",
       "      <th>26</th>\n",
       "      <td>INI23118</td>\n",
       "      <td>Leg_predicted_mass_(left)</td>\n",
       "      <td>331449</td>\n",
       "      <td>3.336</td>\n",
       "      <td>-0.02998</td>\n",
       "      <td>0.016776</td>\n",
       "    </tr>\n",
       "    <tr>\n",
       "      <th>30</th>\n",
       "      <td>INI23121</td>\n",
       "      <td>Arm_fat-free_mass_(right)</td>\n",
       "      <td>331418</td>\n",
       "      <td>3.320</td>\n",
       "      <td>-0.02894</td>\n",
       "      <td>0.016241</td>\n",
       "    </tr>\n",
       "    <tr>\n",
       "      <th>25</th>\n",
       "      <td>INI23122</td>\n",
       "      <td>Arm_predicted_mass_(right)</td>\n",
       "      <td>331413</td>\n",
       "      <td>3.176</td>\n",
       "      <td>-0.02808</td>\n",
       "      <td>0.016174</td>\n",
       "    </tr>\n",
       "    <tr>\n",
       "      <th>29</th>\n",
       "      <td>INI23102</td>\n",
       "      <td>Whole_body_water_mass</td>\n",
       "      <td>331510</td>\n",
       "      <td>3.044</td>\n",
       "      <td>-0.02784</td>\n",
       "      <td>0.016440</td>\n",
       "    </tr>\n",
       "    <tr>\n",
       "      <th>24</th>\n",
       "      <td>INI23114</td>\n",
       "      <td>Leg_predicted_mass_(right)</td>\n",
       "      <td>331480</td>\n",
       "      <td>3.019</td>\n",
       "      <td>-0.02812</td>\n",
       "      <td>0.016689</td>\n",
       "    </tr>\n",
       "  </tbody>\n",
       "</table>\n",
       "</div>"
      ],
      "text/plain": [
       "         icd                        Name    Case  l10pval      LOR     196SE\n",
       "0    BIN1960             Fed-up_feelings  136434    3.041 -0.09304  0.054978\n",
       "4      INI48         Waist_circumference  336659    7.599 -0.06544  0.023010\n",
       "7   INI23100         Whole_body_fat_mass  330970    6.870 -0.06872  0.025539\n",
       "20  INI23128              Trunk_fat_mass  331295    6.835 -0.07053  0.026284\n",
       "8   INI23120        Arm_fat_mass_(right)  331422    6.816 -0.06863  0.025617\n",
       "10  INI23099         Body_fat_percentage  331318    6.816 -0.05306  0.019816\n",
       "9   INI23127        Trunk_fat_percentage  331314    6.790 -0.06356  0.023775\n",
       "5   INI21002                      Weight  336260    6.654 -0.06087  0.023030\n",
       "14  INI23116         Leg_fat_mass_(left)  331470    6.649 -0.05468  0.020698\n",
       "12  INI23112        Leg_fat_mass_(right)  331488    6.620 -0.05517  0.020933\n",
       "6   INI21001       Body_mass_index_(BMI)  336144    6.498 -0.06789  0.026029\n",
       "13  INI23111  Leg_fat_percentage_(right)  331491    6.341 -0.04201  0.016327\n",
       "11  INI23124         Arm_fat_mass_(left)  331362    6.317 -0.06587  0.025656\n",
       "15  INI23115   Leg_fat_percentage_(left)  331473    6.170 -0.04087  0.016123\n",
       "16  INI23119  Arm_fat_percentage_(right)  331445    5.424 -0.04689  0.019874\n",
       "19  INI23123   Arm_fat_percentage_(left)  331395    5.048 -0.04485  0.019796\n",
       "2      INI49           Hip_circumference  336620    4.649 -0.05669  0.026205\n",
       "22  INI23126   Arm_predicted_mass_(left)  331345    4.211 -0.03373  0.016499\n",
       "23  INI23125    Arm_fat-free_mass_(left)  331358    3.929 -0.03257  0.016580\n",
       "28  INI23105        Basal_metabolic_rate  331502    3.923 -0.03368  0.017154\n",
       "27  INI23117    Leg_fat-free_mass_(left)  331454    3.423 -0.03063  0.016887\n",
       "26  INI23118   Leg_predicted_mass_(left)  331449    3.336 -0.02998  0.016776\n",
       "30  INI23121   Arm_fat-free_mass_(right)  331418    3.320 -0.02894  0.016241\n",
       "25  INI23122  Arm_predicted_mass_(right)  331413    3.176 -0.02808  0.016174\n",
       "29  INI23102       Whole_body_water_mass  331510    3.044 -0.02784  0.016440\n",
       "24  INI23114  Leg_predicted_mass_(right)  331480    3.019 -0.02812  0.016689"
      ]
     },
     "execution_count": 18,
     "metadata": {},
     "output_type": "execute_result"
    }
   ],
   "source": [
    "df[['icd', 'Name', 'Case', 'l10pval', 'LOR', '196SE']]\n"
   ]
  },
  {
   "cell_type": "code",
   "execution_count": null,
   "metadata": {
    "collapsed": true
   },
   "outputs": [],
   "source": []
  }
 ],
 "metadata": {
  "kernelspec": {
   "display_name": "py27",
   "language": "python",
   "name": "py27"
  },
  "language_info": {
   "codemirror_mode": {
    "name": "ipython",
    "version": 2
   },
   "file_extension": ".py",
   "mimetype": "text/x-python",
   "name": "python",
   "nbconvert_exporter": "python",
   "pygments_lexer": "ipython2",
   "version": "2.7.14"
  }
 },
 "nbformat": 4,
 "nbformat_minor": 2
}
