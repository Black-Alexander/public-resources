{
 "cells": [
  {
   "cell_type": "code",
   "execution_count": 1,
   "metadata": {
    "ExecuteTime": {
     "end_time": "2018-05-19T18:14:44.083236Z",
     "start_time": "2018-05-19T18:14:43.501115Z"
    },
    "collapsed": true
   },
   "outputs": [],
   "source": [
    "%load_ext autoreload\n",
    "%autoreload 1\n",
    "%matplotlib inline\n"
   ]
  },
  {
   "cell_type": "code",
   "execution_count": 2,
   "metadata": {
    "ExecuteTime": {
     "end_time": "2018-05-19T18:14:47.915711Z",
     "start_time": "2018-05-19T18:14:47.031810Z"
    },
    "collapsed": true
   },
   "outputs": [],
   "source": [
    "import numpy as np\n",
    "import pandas as pd\n",
    "import matplotlib, collections, itertools, os, re, textwrap, logging\n",
    "import matplotlib.pyplot as plt\n",
    "import matplotlib.gridspec as gridspec\n",
    "import matplotlib.patches as mpatches\n",
    "from functools import reduce\n",
    "\n",
    "from logging.config import dictConfig\n",
    "from logging import getLogger\n",
    "\n",
    "dictConfig(dict(\n",
    "    version = 1,\n",
    "    formatters = {'f': {'format': '%(asctime)s %(name)-12s %(levelname)-8s %(message)s'}},\n",
    "    handlers = {\n",
    "        'h': {'class': 'logging.StreamHandler','formatter': 'f',\n",
    "              'level': logging.DEBUG}},\n",
    "    root = {'handlers': ['h'], 'level': logging.DEBUG,},\n",
    "))\n",
    "\n",
    "matplotlib.rc('font',**{'size':16, 'family':'sans-serif','sans-serif':['HelveticaNeue', 'Helvetica']})\n",
    "\n",
    "logger = getLogger('notebook')\n"
   ]
  },
  {
   "cell_type": "code",
   "execution_count": 3,
   "metadata": {
    "ExecuteTime": {
     "end_time": "2018-05-19T18:14:48.609105Z",
     "start_time": "2018-05-19T18:14:47.918892Z"
    }
   },
   "outputs": [],
   "source": [
    "import yt_misc_py as yt_misc\n",
    "\n",
    "import rivas_decomposition_py as decomposition\n"
   ]
  },
  {
   "cell_type": "code",
   "execution_count": 4,
   "metadata": {
    "ExecuteTime": {
     "end_time": "2018-05-19T18:14:49.383613Z",
     "start_time": "2018-05-19T18:14:49.375797Z"
    }
   },
   "outputs": [
    {
     "data": {
      "text/html": [
       "<script>requirejs.config({paths: { 'plotly': ['https://cdn.plot.ly/plotly-latest.min']},});if(!window.Plotly) {{require(['plotly'],function(plotly) {window.Plotly=plotly;});}}</script>"
      ],
      "text/vnd.plotly.v1+html": [
       "<script>requirejs.config({paths: { 'plotly': ['https://cdn.plot.ly/plotly-latest.min']},});if(!window.Plotly) {{require(['plotly'],function(plotly) {window.Plotly=plotly;});}}</script>"
      ]
     },
     "metadata": {},
     "output_type": "display_data"
    }
   ],
   "source": [
    "import plotly\n",
    "import plotly.plotly as py\n",
    "import plotly.graph_objs as go\n",
    "\n",
    "plotly.offline.init_notebook_mode(connected=True)"
   ]
  },
  {
   "cell_type": "code",
   "execution_count": 5,
   "metadata": {
    "ExecuteTime": {
     "end_time": "2018-05-19T18:14:50.017919Z",
     "start_time": "2018-05-19T18:14:50.009043Z"
    },
    "collapsed": true
   },
   "outputs": [],
   "source": [
    "repo_dir = os.path.dirname(os.path.dirname(os.path.dirname(os.path.realpath(os.getcwd()))))\n",
    "\n",
    "out_dir = os.path.join(\n",
    "    repo_dir, 'figs', os.path.basename(os.path.realpath(os.getcwd())),\n",
    ")\n"
   ]
  },
  {
   "cell_type": "code",
   "execution_count": 6,
   "metadata": {
    "ExecuteTime": {
     "end_time": "2018-05-19T18:14:59.385611Z",
     "start_time": "2018-05-19T18:14:50.656811Z"
    }
   },
   "outputs": [
    {
     "name": "stderr",
     "output_type": "stream",
     "text": [
      "2019-08-07 16:41:10,708 data_load_from_npz INFO     reading data from /Users/yosuke/repos/rivas-lab/decomposition/private_data/npz/dev_allNonMHC_z_center_p0001_100PCs_20180129.npz\n"
     ]
    }
   ],
   "source": [
    "# d_PTVs = decomposition.decomposition(os.path.join(\n",
    "#     repo_dir, 'private_data', 'npz', 'dev_PTVsNonMHC_z_center_p0001_100PCs_20180129.npz'\n",
    "# ))\n",
    "\n",
    "# d_coding = decomposition.decomposition(os.path.join(\n",
    "#     repo_dir, 'private_data', 'npz', 'dev_codingNonMHC_z_center_p0001_100PCs_20180129.npz'\n",
    "# ))\n",
    "\n",
    "d_all = decomposition.decomposition(os.path.join(\n",
    "    repo_dir, 'private_data', 'npz', 'dev_allNonMHC_z_center_p0001_100PCs_20180129.npz'\n",
    "))\n"
   ]
  },
  {
   "cell_type": "code",
   "execution_count": 8,
   "metadata": {},
   "outputs": [
    {
     "name": "stderr",
     "output_type": "stream",
     "text": [
      "2019-08-07 16:47:16,717 data_load_from_npz INFO     reading data from /Users/yosuke/repos/rivas-lab/decomposition/private_data/npz/dev_PTVsNonMHC_z_center_p0001_100PCs_20180129.npz\n"
     ]
    }
   ],
   "source": [
    "d_PTVs = decomposition.decomposition(os.path.join(\n",
    "    repo_dir, 'private_data', 'npz', 'dev_PTVsNonMHC_z_center_p0001_100PCs_20180129.npz'\n",
    "))\n"
   ]
  },
  {
   "cell_type": "code",
   "execution_count": 33,
   "metadata": {},
   "outputs": [],
   "source": [
    "biplot_phes = [\n",
    "    'Body mass index (BMI)',\n",
    "    'heart attack/myocardial infarction',\n",
    "    'cholelithiasis/gall stones',\n",
    "    'Whole body fat-free mass',\n",
    "    'Whole body fat mass',\n",
    "    'Standing height',\n",
    "    'Sitting height',\n",
    "    'Weight',\n",
    "]\n"
   ]
  },
  {
   "cell_type": "code",
   "execution_count": 30,
   "metadata": {},
   "outputs": [],
   "source": [
    "import collections"
   ]
  },
  {
   "cell_type": "code",
   "execution_count": 31,
   "metadata": {},
   "outputs": [],
   "source": [
    "source_data_fig2a = d_all.plot_data_pca_phe(0, 1)\n",
    "\n",
    "pd.DataFrame(collections.OrderedDict([\n",
    "    ('GBE_ID', d_all.d['label_phe_code']),\n",
    "    ('Phenotype', d_all.d['label_phe']),\n",
    "    ('PC1', source_data_fig2a['x']),\n",
    "    ('PC2', source_data_fig2a['y'])\n",
    "])).to_csv('Fig2a.tsv', sep='\\t', index=False)"
   ]
  },
  {
   "cell_type": "code",
   "execution_count": 32,
   "metadata": {},
   "outputs": [],
   "source": [
    "source_data_fig2b = d_all.plot_data_pca_var(0, 1)\n",
    "\n",
    "pd.DataFrame(collections.OrderedDict([\n",
    "    ('Variant', d_all.d['label_var']),\n",
    "    ('PC1', source_data_fig2b['x']),\n",
    "    ('PC2', source_data_fig2b['y'])\n",
    "])).to_csv('Fig2b.tsv', sep='\\t', index=False)\n"
   ]
  },
  {
   "cell_type": "code",
   "execution_count": 37,
   "metadata": {},
   "outputs": [],
   "source": [
    "source_data_fig2b_arrow = d_all.get_biplot_arrow_by_phenotypes([0, 1], biplot_phes)\n",
    "\n",
    "pd.DataFrame(collections.OrderedDict([\n",
    "    ('Phenotype', biplot_phes),\n",
    "    ('PC1', source_data_fig2b_arrow[:, 0]),\n",
    "    ('PC2', source_data_fig2b_arrow[:, 1])\n",
    "])).to_csv('Fig2b-arrow.tsv', sep='\\t', index=False)\n"
   ]
  },
  {
   "cell_type": "code",
   "execution_count": 36,
   "metadata": {},
   "outputs": [],
   "source": []
  },
  {
   "cell_type": "code",
   "execution_count": 39,
   "metadata": {},
   "outputs": [],
   "source": [
    "source_data_fig4c = d_PTVs.plot_data_pca_var(0, 2)\n",
    "\n",
    "pd.DataFrame(collections.OrderedDict([\n",
    "    ('Variant', d_PTVs.d['label_var']),\n",
    "    ('PC1', source_data_fig4c['x']),\n",
    "    ('PC3', source_data_fig4c['y'])\n",
    "])).to_csv('Fig4c.tsv', sep='\\t', index=False)\n"
   ]
  },
  {
   "cell_type": "code",
   "execution_count": 40,
   "metadata": {},
   "outputs": [],
   "source": [
    "biplot_phes_PTVs = [\n",
    "    'Body mass index (BMI)',\n",
    "    'Whole body fat-free mass',\n",
    "    'Whole body fat mass',\n",
    "    'Standing height',\n",
    "#    'Sitting height',\n",
    "    'Weight',\n",
    "    'Basal metabolic rate',\n",
    "    'Hip circumference',\n",
    "#    'Reticulocyte count',\n",
    "    'high cholesterol',\n",
    "#    'Leg fat-free mass (right)',\n",
    "    'Leg fat-free mass (left)',    \n",
    "]\n",
    "\n",
    "\n",
    "source_data_fig4c_arrow = d_PTVs.get_biplot_arrow_by_phenotypes([0, 2], biplot_phes_PTVs)\n",
    "\n",
    "pd.DataFrame(collections.OrderedDict([\n",
    "    ('Phenotype', biplot_phes_PTVs),\n",
    "    ('PC1', source_data_fig4c_arrow[:, 0]),\n",
    "    ('PC3', source_data_fig4c_arrow[:, 1])\n",
    "])).to_csv('Fig4c-arrow.tsv', sep='\\t', index=False)\n"
   ]
  },
  {
   "cell_type": "code",
   "execution_count": null,
   "metadata": {},
   "outputs": [],
   "source": []
  }
 ],
 "metadata": {
  "kernelspec": {
   "display_name": "Python 3",
   "language": "python",
   "name": "python3"
  },
  "language_info": {
   "codemirror_mode": {
    "name": "ipython",
    "version": 3
   },
   "file_extension": ".py",
   "mimetype": "text/x-python",
   "name": "python",
   "nbconvert_exporter": "python",
   "pygments_lexer": "ipython3",
   "version": "3.6.2"
  }
 },
 "nbformat": 4,
 "nbformat_minor": 2
}
