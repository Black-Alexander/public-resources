{
 "cells": [
  {
   "cell_type": "code",
   "execution_count": 1,
   "metadata": {},
   "outputs": [],
   "source": [
    "%matplotlib inline\n",
    "\n",
    "from __future__ import print_function\n",
    "\n",
    "import numpy as np\n",
    "import pandas as pd\n",
    "import matplotlib, collections, itertools, os, re, textwrap, logging\n",
    "import matplotlib.pyplot as plt\n",
    "import matplotlib.gridspec as gridspec\n",
    "import matplotlib.patches as mpatches\n",
    "from functools import reduce\n",
    "\n",
    "from logging.config import dictConfig\n",
    "from logging import getLogger\n",
    "\n",
    "\n",
    "dictConfig(dict(\n",
    "    version = 1,\n",
    "    formatters = {\n",
    "        'f': {'format':\n",
    "              '%(asctime)s %(name)-12s %(levelname)-8s %(message)s'}\n",
    "        },\n",
    "    handlers = {\n",
    "        'h': {'class': 'logging.StreamHandler',\n",
    "              'formatter': 'f',\n",
    "              'level': logging.DEBUG}\n",
    "        },\n",
    "    root = {\n",
    "        'handlers': ['h'],\n",
    "        'level': logging.DEBUG,\n",
    "        },\n",
    "))\n",
    "\n",
    "\n",
    "font = {\n",
    "#     'family' : 'normal',\n",
    "#     'weight' : 'bold',\n",
    "    'size'   : 16\n",
    "}\n",
    "\n",
    "matplotlib.rc('font', **font)\n",
    "logger = getLogger('notebook')"
   ]
  },
  {
   "cell_type": "code",
   "execution_count": null,
   "metadata": {},
   "outputs": [],
   "source": [
    "import pgenlib"
   ]
  },
  {
   "cell_type": "code",
   "execution_count": 3,
   "metadata": {},
   "outputs": [],
   "source": [
    "ukbb_path = os.path.join(\n",
    "    '/', 'oak', 'stanford', 'groups', 'mrivas', 'private_data', 'ukbb', '24983', \n",
    ")\n",
    "\n",
    "pgen_path = os.path.join(\n",
    "    ukbb_path, 'cal', 'pgen'\n",
    ")\n",
    "\n",
    "def read_bim_file(chr, app_id = 24983, pgen_path = pgen_path):\n",
    "    return pd.read_csv(\n",
    "        os.path.join(pgen_path, 'ukb{}_cal_chr{}_v2.bim'.format(app_id, chr)), sep='\\t', \n",
    "        names = ['CHR', 'VAR_ID', 'CM', 'POS', 'ALT', 'REF']\n",
    "    )\n"
   ]
  },
  {
   "cell_type": "markdown",
   "metadata": {},
   "source": [
    "## read bim (variant index) file"
   ]
  },
  {
   "cell_type": "code",
   "execution_count": 4,
   "metadata": {},
   "outputs": [],
   "source": [
    "vars_of_interest = collections.OrderedDict([\n",
    "    ('GPR151', (5,  145895394)),\n",
    "    ('PDE3E',  (11, 14865399))\n",
    "])\n"
   ]
  },
  {
   "cell_type": "code",
   "execution_count": 5,
   "metadata": {},
   "outputs": [],
   "source": [
    "bims = {}\n",
    "for chr, pos in vars_of_interest.values():\n",
    "    bims[chr] = read_bim_file(chr)\n",
    "    "
   ]
  },
  {
   "cell_type": "code",
   "execution_count": 6,
   "metadata": {},
   "outputs": [],
   "source": [
    "def find_index(chr, pos, bims):\n",
    "    '''Find the index of variant on bim file'''\n",
    "    return bims[chr]['POS'].tolist().index(pos)\n"
   ]
  },
  {
   "cell_type": "code",
   "execution_count": 7,
   "metadata": {},
   "outputs": [
    {
     "name": "stdout",
     "output_type": "stream",
     "text": [
      "GPR151\t5\t145895394\t35244\n",
      "PDE3E\t11\t14865399\t6705\n"
     ]
    }
   ],
   "source": [
    "for gene_symbol, variant in vars_of_interest.items():\n",
    "    chr, pos = variant\n",
    "    print('{}\\t{}\\t{}\\t{}'.format(gene_symbol, chr, pos, find_index(chr, pos, bims)))"
   ]
  },
  {
   "cell_type": "markdown",
   "metadata": {},
   "source": [
    "## read fam (individual index) file\n",
    "\n",
    "```\n",
    ".fam (PLINK sample information file)\n",
    "\n",
    "Sample information file accompanying a .bed or biallelic .pgen binary genotype table. (--make-just-fam can be used to update just this file.)\n",
    "\n",
    "A text file with no header line, and one line per sample with the following six fields:\n",
    "\n",
    "    Family ID ('FID')\n",
    "    Individual ID ('IID'; cannot be '0')\n",
    "    Individual ID of father ('0' if father isn't in dataset)\n",
    "    Individual ID of mother ('0' if mother isn't in dataset)\n",
    "    Sex code ('1' = male, '2' = female, '0' = unknown)\n",
    "    Phenotype value ('1' = control, '2' = case, '-9'/'0'/non-numeric = missing data if case/control)\n",
    "\n",
    "```"
   ]
  },
  {
   "cell_type": "code",
   "execution_count": 8,
   "metadata": {},
   "outputs": [],
   "source": [
    "fam_df = pd.read_csv(\n",
    "    os.path.join(pgen_path, 'ukb{}_cal_chr{}_v2.fam'.format(24983, 1)), sep='\\t', \n",
    "    names = ['FID', 'IID', 'IID_F', 'IID_M', 'SEX', 'PHE'],    \n",
    ")"
   ]
  },
  {
   "cell_type": "markdown",
   "metadata": {},
   "source": [
    "## read genotype vector (not allelotype)"
   ]
  },
  {
   "cell_type": "code",
   "execution_count": 10,
   "metadata": {},
   "outputs": [],
   "source": [
    "def read_geno_by_pos(chr, pos, allele_idx = 1, bims=bims, pgen_path = pgen_path, app_id = 24983):\n",
    "    var_idx = find_index(chr, pos, bims)\n",
    "    with pgenlib.PgenReader(\n",
    "        os.path.join(os.path.join(pgen_path, 'ukb{}_cal_chr{}_v2.pgen'.format(app_id, chr)))\n",
    "    ) as pgr:\n",
    "        geno_int_out = np.zeros(pgr.get_raw_sample_ct(), dtype=np.int)\n",
    "        pgr.read(var_idx, geno_int_out, allele_idx = allele_idx)\n",
    "    return geno_int_out"
   ]
  },
  {
   "cell_type": "code",
   "execution_count": 11,
   "metadata": {},
   "outputs": [
    {
     "name": "stdout",
     "output_type": "stream",
     "text": [
      "GPR151\t5\t145895394\tCounter({0: 480468, 1: 7560, -9: 313, 2: 36})\n",
      "PDE3E\t11\t14865399\tCounter({0: 486561, 1: 947, -9: 869})\n"
     ]
    }
   ],
   "source": [
    "geno_vecs = {}\n",
    "for gene_symbol, variant in vars_of_interest.items():\n",
    "    chr, pos = variant\n",
    "    geno_vecs[variant] = read_geno_by_pos(chr, pos, allele_idx=0)\n",
    "    print('{}\\t{}\\t{}\\t{}'.format(gene_symbol, chr, pos, collections.Counter(geno_vecs[variant])))"
   ]
  },
  {
   "cell_type": "markdown",
   "metadata": {},
   "source": [
    "## read covariates"
   ]
  },
  {
   "cell_type": "code",
   "execution_count": 12,
   "metadata": {},
   "outputs": [],
   "source": [
    "def read_covar():\n",
    "    covar = pd.read_csv(\n",
    "        os.path.join(ukbb_path, 'sqc', 'ukb24983_GWAS_covar.phe'), sep='\\t'\n",
    "    )\n",
    "    return covar[(covar['FID'] > 0) & (covar['IID'] > 0)]    "
   ]
  },
  {
   "cell_type": "code",
   "execution_count": 13,
   "metadata": {},
   "outputs": [],
   "source": [
    "covar = read_covar()"
   ]
  },
  {
   "cell_type": "markdown",
   "metadata": {},
   "source": [
    "- fam_file\n",
    "  - '1' = male\n",
    "  - '2' = female\n",
    "  - '0' = unknown (reducted)\n",
    "- covariates\n",
    "  - '0' = female\n",
    "  - '1' = male"
   ]
  },
  {
   "cell_type": "markdown",
   "metadata": {},
   "source": [
    "## read phenotypes\n"
   ]
  },
  {
   "cell_type": "code",
   "execution_count": 16,
   "metadata": {},
   "outputs": [],
   "source": [
    "phes = collections.OrderedDict()\n"
   ]
  },
  {
   "cell_type": "code",
   "execution_count": 32,
   "metadata": {},
   "outputs": [],
   "source": [
    "# weight\n",
    "phes['INI21002'] = pd.read_csv(\n",
    "    os.path.join(ukbb_path, 'phenotypedata', 'ukb9797_20170818_qt', 'INI21002.phe'), sep='\\t',\n",
    "    names=['FID', 'IID', 'INI21002']\n",
    ")\n",
    "\n",
    "# standing height\n",
    "phes['INI50'] = pd.read_csv(\n",
    "    os.path.join(ukbb_path, 'phenotypedata', 'ukb9797_20170818_qt', 'INI50.phe'), sep='\\t',\n",
    "    names=['FID', 'IID', 'INI50']\n",
    ")\n",
    "\n",
    "# BMI\n",
    "phes['INI21001'] = pd.read_csv(\n",
    "    os.path.join(ukbb_path, 'phenotypedata', 'ukb9797_20170818_qt', 'INI21001.phe'), sep='\\t',\n",
    "    names=['FID', 'IID', 'INI21001']\n",
    ")\n",
    "\n"
   ]
  },
  {
   "cell_type": "code",
   "execution_count": 34,
   "metadata": {},
   "outputs": [
    {
     "data": {
      "image/png": "[encoded data removed]",
      "text/plain": [
       "<matplotlib.figure.Figure at 0x7f4fc014d550>"
      ]
     },
     "metadata": {},
     "output_type": "display_data"
    },
    {
     "data": {
      "image/png": "[encoded data removed]",
      "text/plain": [
       "<matplotlib.figure.Figure at 0x7f4fc0219f50>"
      ]
     },
     "metadata": {},
     "output_type": "display_data"
    },
    {
     "data": {
      "image/png": "[encoded data removed]",
      "text/plain": [
       "<matplotlib.figure.Figure at 0x7f4fc0176a90>"
      ]
     },
     "metadata": {},
     "output_type": "display_data"
    }
   ],
   "source": [
    "for phe in ['INI21002', 'INI50', 'INI21001']:\n",
    "    plt.hist(phes[phe][phe])\n",
    "    plt.show()"
   ]
  },
  {
   "cell_type": "markdown",
   "metadata": {},
   "source": [
    "## read cohort definitions"
   ]
  },
  {
   "cell_type": "code",
   "execution_count": 19,
   "metadata": {},
   "outputs": [],
   "source": [
    "cohort = pd.read_csv(\n",
    "    os.path.join(ukbb_path, 'sqc', 'population_stratification', 'ukb24983_white_british.phe'), sep='\\t',\n",
    "    names=['FID', 'IID']\n",
    ")\n"
   ]
  },
  {
   "cell_type": "code",
   "execution_count": 20,
   "metadata": {},
   "outputs": [],
   "source": [
    "cohort_set = set(zip(cohort['FID'], cohort['IID']))\n"
   ]
  },
  {
   "cell_type": "markdown",
   "metadata": {},
   "source": [
    "## join "
   ]
  },
  {
   "cell_type": "code",
   "execution_count": 21,
   "metadata": {},
   "outputs": [],
   "source": [
    "geno_df = pd.DataFrame(collections.OrderedDict([\n",
    "    ('FID', fam_df.FID),\n",
    "    ('IID', fam_df.IID),\n",
    "] + [\n",
    "    (gene_symbol, geno_vecs[variant]) for gene_symbol, variant in vars_of_interest.items()\n",
    "]\n",
    "))"
   ]
  },
  {
   "cell_type": "code",
   "execution_count": 35,
   "metadata": {},
   "outputs": [],
   "source": [
    "df = geno_df.merge(\n",
    "    phes['INI21002'], how='left', on=['FID', 'IID']\n",
    ").merge(\n",
    "    phes['INI50'], how='left', on=['FID', 'IID']\n",
    ").merge(\n",
    "    phes['INI21001'], how='left', on=['FID', 'IID']\n",
    ").merge(\n",
    "    covar, how='left', on=['FID', 'IID']\n",
    ")\n"
   ]
  },
  {
   "cell_type": "code",
   "execution_count": 37,
   "metadata": {},
   "outputs": [],
   "source": [
    "df['white_british'] = [(fid, iid) in cohort_set for fid, iid in zip(df['FID'], df['IID'])]\n"
   ]
  },
  {
   "cell_type": "code",
   "execution_count": 40,
   "metadata": {},
   "outputs": [],
   "source": [
    "df_final = df[(df['FID'] > 0) & (df['IID'] > 0)]\n"
   ]
  },
  {
   "cell_type": "markdown",
   "metadata": {},
   "source": [
    "## save to file"
   ]
  },
  {
   "cell_type": "code",
   "execution_count": 44,
   "metadata": {},
   "outputs": [],
   "source": [
    "df_final.to_csv(\n",
    "    '../../../private_data/FigS13-15_regression_data.tsv.gz', sep='\\t', compression='gzip',\n",
    ")"
   ]
  },
  {
   "cell_type": "code",
   "execution_count": null,
   "metadata": {},
   "outputs": [],
   "source": []
  }
 ],
 "metadata": {
  "kernelspec": {
   "display_name": "Python 3",
   "language": "python",
   "name": "python3"
  },
  "language_info": {
   "codemirror_mode": {
    "name": "ipython",
    "version": 3
   },
   "file_extension": ".py",
   "mimetype": "text/x-python",
   "name": "python",
   "nbconvert_exporter": "python",
   "pygments_lexer": "ipython3",
   "version": "3.7.3"
  }
 },
 "nbformat": 4,
 "nbformat_minor": 4
}
